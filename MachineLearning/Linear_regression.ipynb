{
  "nbformat": 4,
  "nbformat_minor": 0,
  "metadata": {
    "colab": {
      "name": "Linear_regression",
      "provenance": [],
      "collapsed_sections": []
    },
    "kernelspec": {
      "name": "python3",
      "display_name": "Python 3"
    }
  },
  "cells": [
    {
      "cell_type": "code",
      "metadata": {
        "id": "Okm0_uqeIntT",
        "colab_type": "code",
        "colab": {
          "base_uri": "https://localhost:8080/",
          "height": 122
        },
        "outputId": "2c8890f2-b0de-4b4d-d274-508b8ab2977b"
      },
      "source": [
        "from google.colab import drive\n",
        "drive.mount('/content/drive')\n"
      ],
      "execution_count": 3,
      "outputs": [
        {
          "output_type": "stream",
          "text": [
            "Go to this URL in a browser: https://accounts.google.com/o/oauth2/auth?client_id=947318989803-6bn6qk8qdgf4n4g3pfee6491hc0brc4i.apps.googleusercontent.com&redirect_uri=urn%3aietf%3awg%3aoauth%3a2.0%3aoob&response_type=code&scope=email%20https%3a%2f%2fwww.googleapis.com%2fauth%2fdocs.test%20https%3a%2f%2fwww.googleapis.com%2fauth%2fdrive%20https%3a%2f%2fwww.googleapis.com%2fauth%2fdrive.photos.readonly%20https%3a%2f%2fwww.googleapis.com%2fauth%2fpeopleapi.readonly\n",
            "\n",
            "Enter your authorization code:\n",
            "··········\n",
            "Mounted at /content/drive\n"
          ],
          "name": "stdout"
        }
      ]
    },
    {
      "cell_type": "code",
      "metadata": {
        "id": "bzRfm5v-M2l9",
        "colab_type": "code",
        "colab": {
          "base_uri": "https://localhost:8080/",
          "height": 911
        },
        "outputId": "db7a5923-64fa-48ae-a697-3d1de10a2e0c"
      },
      "source": [
        "import matplotlib.pyplot as plt\n",
        "import numpy as np\n",
        "from sklearn import linear_model as lm\n",
        "from sklearn.metrics import mean_squared_error, r2_score\n",
        "import pandas as pd\n",
        "df = pd.read_csv('/content/drive/My Drive/1.01. Simple linear regression.csv') \n",
        "X = df[\"SAT\"]\n",
        "X = X[:,np.newaxis]\n",
        "#X = np.reshape(X, (X.shape[0],1))\n",
        "Y = df[\"GPA\"]\n",
        "Y = Y[:,np.newaxis]\n",
        "#Y = np.reshape(Y, (Y.shape[0],1))\n",
        "train_x =X[0:70]\n",
        "train_y =Y[0:70]\n",
        "print(train_x.shape)\n",
        "print(train_y.shape)\n",
        "test_x = X[70:]\n",
        "test_y = Y[70:]\n",
        "print(test_x.shape)\n",
        "print(test_y.shape)\n",
        "# Create linear regression object\n",
        "regr = lm.LinearRegression()\n",
        "\n",
        "# Train the model using the training sets\n",
        "regr.fit(train_x, train_y)\n",
        "\n",
        "# Make predictions using the testing set\n",
        "y_pred = regr.predict(test_x)\n",
        "\n",
        "# The coefficients Slop\n",
        "print('Slop: \\n', regr.coef_)\n",
        "# The coefficients C intercept\n",
        "print('Intercept: \\n', regr.intercept_)\n",
        "# The mean squared error\n",
        "#print('Mean squared error: %.2f'\n",
        "#      % mean_squared_error(testY, y_pred))\n",
        "# The coefficient of determination: 1 is perfect prediction\n",
        "#print('Coefficient of determination: %.2f'\n",
        "#      % r2_score(testY, y_pred))\n",
        "print('Actual Val: \\n',test_y)\n",
        "print('Pred Val: \\n',y_pred)\n",
        "\n",
        "# Plot outputs\n",
        "plt.scatter(test_x, test_y,  color='Gray')\n",
        "plt.plot(test_x,y_pred, color='Red')\n",
        "\n",
        "#plt.xticks(())\n",
        "#plt.yticks(())\n",
        "\n",
        "plt.show()\n",
        "\n",
        "\n",
        "\n",
        "\n",
        "\n",
        "\n"
      ],
      "execution_count": 53,
      "outputs": [
        {
          "output_type": "stream",
          "text": [
            "(70, 1)\n",
            "(70, 1)\n",
            "(14, 1)\n",
            "(14, 1)\n",
            "Slop: \n",
            " [[0.00142388]]\n",
            "Intercept: \n",
            " [0.66458639]\n",
            "Actual Val: \n",
            " [[3.59]\n",
            " [3.59]\n",
            " [3.6 ]\n",
            " [3.6 ]\n",
            " [3.61]\n",
            " [3.62]\n",
            " [3.64]\n",
            " [3.65]\n",
            " [3.71]\n",
            " [3.71]\n",
            " [3.71]\n",
            " [3.73]\n",
            " [3.76]\n",
            " [3.81]]\n",
            "Pred Val: \n",
            " [[3.41694149]\n",
            " [3.19624049]\n",
            " [3.47674435]\n",
            " [3.41836537]\n",
            " [3.54224271]\n",
            " [3.53369944]\n",
            " [3.50806965]\n",
            " [3.54081883]\n",
            " [3.28879252]\n",
            " [3.42121313]\n",
            " [3.24180457]\n",
            " [3.49383088]\n",
            " [3.45823394]\n",
            " [3.58353515]]\n"
          ],
          "name": "stdout"
        },
        {
          "output_type": "display_data",
          "data": {
            "image/png": "[encoded data removed]",
            "text/plain": [
              "<Figure size 432x288 with 1 Axes>"
            ]
          },
          "metadata": {
            "tags": [],
            "needs_background": "light"
          }
        }
      ]
    },
    {
      "cell_type": "code",
      "metadata": {
        "id": "68GWEFpTiAcI",
        "colab_type": "code",
        "colab": {
          "base_uri": "https://localhost:8080/",
          "height": 384
        },
        "outputId": "bb7b4127-da36-4bb2-c707-f27d637d5711"
      },
      "source": [
        "\n",
        "from sklearn.metrics import mean_squared_error, r2_score\n",
        "\n",
        "# Load the diabetes dataset\n",
        "diabetes_X, diabetes_y = datasets.load_diabetes(return_X_y=True)\n",
        "\n",
        "# Use only one feature\n",
        "diabetes_X = diabetes_X[:, np.newaxis, 2]\n",
        "\n",
        "# Split the data into training/testing sets\n",
        "diabetes_X_train = diabetes_X[:-40]\n",
        "diabetes_X_test = diabetes_X[-40:]\n",
        "print(diabetes_X.shape)\n",
        "print(diabetes_X_train.shape)\n",
        "print(diabetes_X_test.shape)\n",
        "\n",
        "# Split the targets into training/testing sets\n",
        "diabetes_y_train = diabetes_y[:-40]\n",
        "diabetes_y_test = diabetes_y[-40:]\n",
        "\n",
        "# Create linear regression object\n",
        "regr = linear_model.LinearRegression()\n",
        "\n",
        "# Train the model using the training sets\n",
        "regr.fit(diabetes_X_train, diabetes_y_train)\n",
        "\n",
        "# Make predictions using the testing set\n",
        "diabetes_y_pred = regr.predict(diabetes_X_test)\n",
        "\n",
        "# The coefficients\n",
        "print('Coefficients: \\n', regr.coef_)\n",
        "# The mean squared error\n",
        "print('Mean squared error: %.2f'\n",
        "      % mean_squared_error(diabetes_y_test, diabetes_y_pred))\n",
        "# The coefficient of determination: 1 is perfect prediction\n",
        "print('Coefficient of determination: %.2f'\n",
        "      % r2_score(diabetes_y_test, diabetes_y_pred))\n",
        "\n",
        "# Plot outputs\n",
        "plt.scatter(diabetes_X_test, diabetes_y_test,  color='black')\n",
        "plt.plot(diabetes_X_test, diabetes_y_pred, color='blue', linewidth=3)\n",
        "\n",
        "plt.xticks(())\n",
        "plt.yticks(())\n",
        "\n",
        "plt.show()"
      ],
      "execution_count": 51,
      "outputs": [
        {
          "output_type": "stream",
          "text": [
            "(442, 1)\n",
            "(402, 1)\n",
            "(40, 1)\n",
            "Coefficients: \n",
            " [955.44001079]\n",
            "Mean squared error: 3309.16\n",
            "Coefficient of determination: 0.42\n"
          ],
          "name": "stdout"
        },
        {
          "output_type": "display_data",
          "data": {
            "image/png": "[encoded data removed]",
            "text/plain": [
              "<Figure size 432x288 with 1 Axes>"
            ]
          },
          "metadata": {
            "tags": [],
            "needs_background": "light"
          }
        }
      ]
    }
  ]
}