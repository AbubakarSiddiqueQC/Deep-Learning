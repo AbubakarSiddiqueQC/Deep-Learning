{
  "nbformat": 4,
  "nbformat_minor": 0,
  "metadata": {
    "kernelspec": {
      "display_name": "Python 3",
      "language": "python",
      "name": "python3"
    },
    "language_info": {
      "codemirror_mode": {
        "name": "ipython",
        "version": 3
      },
      "file_extension": ".py",
      "mimetype": "text/x-python",
      "name": "python",
      "nbconvert_exporter": "python",
      "pygments_lexer": "ipython3",
      "version": "3.5.4"
    },
    "colab": {
      "name": "Copy of Test-3_perceptron_learning_algorithm.ipynb",
      "provenance": [],
      "collapsed_sections": []
    }
  },
  "cells": [
    {
      "cell_type": "markdown",
      "metadata": {
        "id": "0NxF4d-l_joJ",
        "colab_type": "text"
      },
      "source": [
        "# <center>CS568:Deep Learning</center>  <center>Spring 2020</center> "
      ]
    },
    {
      "cell_type": "markdown",
      "metadata": {
        "id": "N9Ms3MR-_joO",
        "colab_type": "text"
      },
      "source": [
        "# Test 3 - Training a perceptron (10 marks)\n",
        "Write a program to learn the optimal weights to model the AND gate functionality using perceptron.\n",
        "\n",
        "+ **Assigned**: Friday, February 28, 2020\n",
        "+ **Due **: Monday, March 2, 2020 before **5.00 PM**"
      ]
    },
    {
      "cell_type": "code",
      "metadata": {
        "id": "d0O5u9qY_joQ",
        "colab_type": "code",
        "outputId": "31160d08-7509-47ca-86fc-0e42d32e56ba",
        "colab": {
          "base_uri": "https://localhost:8080/",
          "height": 598
        }
      },
      "source": [
        "import numpy as np\n",
        "import matplotlib.pyplot as plt\n",
        "\n",
        "#AND gate\n",
        "X=[[0,0],[0,1],[1,0],[1,1]] # 4 input training vectors \n",
        "T=[-1,-1,-1,1] # targets [-1,1]\n",
        "\n",
        "global w\n",
        "w = np.random.randn(3)\n",
        "# plot red and blue points for AND gate input\n",
        "for i in range(len(X)): \n",
        "  x = X[i]\n",
        "  if T[i]== -1:\n",
        "    plt.plot(x[0],x[1],'ro')\n",
        "  else:\n",
        "    plt.plot(x[0],x[1],'bo')\n",
        "\n",
        "def activation_func(x):\n",
        "        yin = np.sign(np.dot(w,np.append(x,1)))\n",
        "        #yin1 = np.sign(w[2]+w[0]*x[0]+w[1]*x[1])\n",
        "        if(yin >= 0):\n",
        "          return 1\n",
        "        else:\n",
        "          return -1\n",
        "\n",
        "def update_Waights(x,t):\n",
        "        alfa = 1\n",
        "        wold = w\n",
        "        wnew = w\n",
        "        wnew[2] = wold[2] + alfa*t\n",
        "        wnew[0] = wold[0] + alfa*x[0]*t\n",
        "        wnew[1] = wold[1] + alfa*x[1]*t\n",
        "        return wnew\n",
        "\n",
        "        \n",
        "\n",
        "def draw_boundry(color):\n",
        "        ## add code here to plot boundry\n",
        "        #Equation of line\n",
        "        #w1x1 + w2x2 + b = 0\n",
        "        #x1-intercept \n",
        "        #x1 = -(b - w2x2) / w1\n",
        "        #if x2 == 0\n",
        "        #x1 = -(b - w2 * 0) / w1\n",
        "        #x1 = -b / w1\n",
        "        #####################################\n",
        "        #X2-intercept\n",
        "        #x2 = -(b - w1x1) / w2\n",
        "        #if x1 == 0\n",
        "        #x2 = -(b - w1 * 0) / w2\n",
        "        #x2 = -b / w2\n",
        "        #####################################\n",
        "        #here y = x2\n",
        "        #Slope m\n",
        "        #point_1 = (0, -b / w2) \n",
        "        #point_2 = (-b / w1, 0)\n",
        "        #m = (y2 - y1) / (x2 - x1)\n",
        "        #m = (0 - -(b / w2)) / (-(b / w1) - 0)\n",
        "        #m = -(b / w2) / (b / w1)\n",
        "        #####################################\n",
        "        #slope = -(b / w2) / (b / w1)\n",
        "        #x2-intercept = -b / w2\n",
        "        x1 = np.linspace(0,1,5)\n",
        "        x2 = (-(w[2] / w[1]) / (w[2] / w[0]))*x1 + (-w[2] / w[1])\n",
        "        plt.plot(x1, x2, color)\n",
        "                \n",
        "done = False\n",
        "#epoch       \n",
        "iter=1\n",
        "while not(done):\n",
        "        for x in range(len(X)):\n",
        "          #print(activation_func(X[x]))\n",
        "          #print(T[x])\n",
        "          #print(w)\n",
        "          draw_boundry('-r')\n",
        "          if(activation_func(X[x]) != T[x]): \n",
        "            w = update_Waights(X[x],T[x])\n",
        "          else:\n",
        "            if(iter >= 10):  \n",
        "              done = True\n",
        "        iter = iter + 1\n",
        "  \n",
        "             \n",
        "             \n",
        "        ## add code here to learn the optimal weights to model AND gate functionality using perceptron\n",
        "draw_boundry('-b')\n",
        "plt.show()         \n",
        "#Trained boudry        \n",
        "draw_boundry('-b')\n",
        "# plot red and blue points for AND gate input\n",
        "for i in range(len(X)): \n",
        "  x = X[i]\n",
        "  if T[i]== -1:\n",
        "    plt.plot(x[0],x[1],'ro')\n",
        "  else:\n",
        "    plt.plot(x[0],x[1],'bo')\n",
        "plt.show()       \n",
        "print(\"| input  |output|\")\n",
        "for x in range(len(X)):\n",
        "    output = np.sign(np.dot(w,np.append(X[x],1)))\n",
        "    print(\"| {} | {} |\".format(X[x], output))\n"
      ],
      "execution_count": 10,
      "outputs": [
        {
          "output_type": "display_data",
          "data": {
            "image/png": "[encoded data removed]",
            "text/plain": [
              "<Figure size 432x288 with 1 Axes>"
            ]
          },
          "metadata": {
            "tags": []
          }
        },
        {
          "output_type": "display_data",
          "data": {
            "image/png": "[encoded data removed]",
            "text/plain": [
              "<Figure size 432x288 with 1 Axes>"
            ]
          },
          "metadata": {
            "tags": []
          }
        },
        {
          "output_type": "stream",
          "text": [
            "| input  |output|\n",
            "| [0, 0] | -1.0 |\n",
            "| [0, 1] | -1.0 |\n",
            "| [1, 0] | -1.0 |\n",
            "| [1, 1] | 1.0 |\n"
          ],
          "name": "stdout"
        }
      ]
    }
  ]
}