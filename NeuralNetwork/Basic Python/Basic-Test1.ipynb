{
 "cells": [
  {
   "cell_type": "markdown",
   "metadata": {},
   "source": [
    "## Recitation 1 Test  (15 marks)"
   ]
  },
  {
   "cell_type": "markdown",
   "metadata": {},
   "source": [
    "Make two 1D arrays 'u' and 'v' consisting of 3 uniform random numbers between 0 and 2 each. (**1 mark**)"
   ]
  },
  {
   "cell_type": "code",
   "execution_count": 4,
   "metadata": {},
   "outputs": [
    {
     "name": "stdout",
     "output_type": "stream",
     "text": [
      "[0.03268858 0.73865628 0.25342509]\n",
      "[0.43331658 0.82959851 1.40536431]\n"
     ]
    }
   ],
   "source": [
    "import numpy as np\n",
    "u = np.random.uniform(low=0, high=2, size=3) # generate integer random numbers between 0 and 2\n",
    "print(u)\n",
    "v = np.random.uniform(low=0, high=2, size=3) # generate integer random numbers between 0 and 2\n",
    "print(v)"
   ]
  },
  {
   "cell_type": "markdown",
   "metadata": {},
   "source": [
    "Compute the dot-product of 'u' and 'v'. (**1 mark**)"
   ]
  },
  {
   "cell_type": "code",
   "execution_count": 2,
   "metadata": {},
   "outputs": [
    {
     "name": "stdout",
     "output_type": "stream",
     "text": [
      "u⋅v = 1.1751234170864135\n"
     ]
    }
   ],
   "source": [
    "print(\"u⋅v =\", np.dot(u, v))"
   ]
  },
  {
   "cell_type": "markdown",
   "metadata": {},
   "source": [
    "Compute the lengths of vectors 'u' and 'v'. Vector lenghts are also called *magnitudes* or *norms*. (**1 mark**)"
   ]
  },
  {
   "cell_type": "code",
   "execution_count": 3,
   "metadata": {},
   "outputs": [
    {
     "name": "stdout",
     "output_type": "stream",
     "text": [
      "Magnitude of the vector u: 0.5582669462405487\n",
      "Magnitude of the vector v: 2.1810111840324518\n"
     ]
    }
   ],
   "source": [
    "print(\"Magnitude of the vector u:\",np.linalg.norm(u))\n",
    "print(\"Magnitude of the vector v:\",np.linalg.norm(v))"
   ]
  },
  {
   "cell_type": "markdown",
   "metadata": {},
   "source": [
    "Find the angle between 'u' and 'v'. (**2 marks**)"
   ]
  },
  {
   "cell_type": "code",
   "execution_count": 8,
   "metadata": {},
   "outputs": [
    {
     "name": "stdout",
     "output_type": "stream",
     "text": [
      "Cosθ = 0.9651252391808597\n",
      "θ = 15.17621802690021 °\n"
     ]
    }
   ],
   "source": [
    "import math\n",
    "angle = np.dot(u, v)/(np.linalg.norm(u)*np.linalg.norm(v))\n",
    "print(\"Cosθ =\",angle)\n",
    "angleInDegree = math.degrees(math.acos(angle))\n",
    "print(\"θ =\",angleInDegree,\"°\")"
   ]
  },
  {
   "cell_type": "markdown",
   "metadata": {},
   "source": [
    "Compute the tensor-product of 'u' and 'v'. (**1 mark**)"
   ]
  },
  {
   "cell_type": "code",
   "execution_count": 9,
   "metadata": {},
   "outputs": [
    {
     "name": "stdout",
     "output_type": "stream",
     "text": [
      "A⨂B =\n",
      " [[0.17985002 0.3983537  0.1464595 ]\n",
      " [0.35292701 0.78170567 0.28740345]\n",
      " [0.26225788 0.58088066 0.21356773]]\n"
     ]
    }
   ],
   "source": [
    "print(\"A⨂B =\\n\", np.tensordot(u, v, axes=0))"
   ]
  },
  {
   "cell_type": "markdown",
   "metadata": {},
   "source": [
    "Make a 2D array 'M' of size (2,3) containing uniform random numbers between 0 and 1. (**1 mark**)"
   ]
  },
  {
   "cell_type": "code",
   "execution_count": 13,
   "metadata": {},
   "outputs": [
    {
     "name": "stdout",
     "output_type": "stream",
     "text": [
      "[[0.52416129 0.53051947 0.79849909]\n",
      " [0.1308489  0.40334615 0.88618984]]\n"
     ]
    }
   ],
   "source": [
    "M = np.random.uniform(low = 0,high = 1,size = (2,3))  # Create an array filled with random values\n",
    "print(M) "
   ]
  },
  {
   "cell_type": "markdown",
   "metadata": {},
   "source": [
    "Compute the matrix-vector product of 'M' and 'u'. (**1 mark**)"
   ]
  },
  {
   "cell_type": "code",
   "execution_count": 16,
   "metadata": {},
   "outputs": [
    {
     "name": "stdout",
     "output_type": "stream",
     "text": [
      "u^T⋅v =\n",
      " [0.57690129 0.46805604]\n"
     ]
    }
   ],
   "source": [
    "result = np.matmul(M,u.T)\n",
    "print(\"u^T⋅v =\\n\", result)"
   ]
  },
  {
   "cell_type": "markdown",
   "metadata": {},
   "source": [
    "Make an array 'A' consisting of a (3,4) array, a (2,4) array and a (4,4) array. All 3 arrays should contain random integers less than 9. (**1 mark**)"
   ]
  },
  {
   "cell_type": "code",
   "execution_count": 6,
   "metadata": {},
   "outputs": [
    {
     "name": "stdout",
     "output_type": "stream",
     "text": [
      "A =\n",
      " [array([[6, 8, 4, 1],\n",
      "       [7, 8, 4, 7],\n",
      "       [0, 5, 3, 1]])\n",
      " array([[6, 0, 5, 0],\n",
      "       [7, 4, 2, 6]])\n",
      " array([[1, 8, 8, 5],\n",
      "       [0, 3, 0, 0],\n",
      "       [8, 0, 3, 6],\n",
      "       [1, 8, 2, 3]])]\n"
     ]
    }
   ],
   "source": [
    "a1 = np.random.randint(9, size=(3,4))\n",
    "a2 = np.random.randint(9, size=(2,4))\n",
    "a3 = np.random.randint(9, size=(4,4))\n",
    "A = np.array([a1, a2, a3])\n",
    "\n",
    "print(\"A =\\n\", A.T)"
   ]
  },
  {
   "cell_type": "markdown",
   "metadata": {},
   "source": [
    "Pad the three arrays in 'A' to make a tensor array 'B'. Padding should be at the top with constant value of -1. (**3 marks**)"
   ]
  },
  {
   "cell_type": "code",
   "execution_count": 8,
   "metadata": {},
   "outputs": [
    {
     "name": "stdout",
     "output_type": "stream",
     "text": [
      "[((1, 0), (0, 0)), ((2, 0), (0, 0)), ((0, 0), (0, 0))]\n",
      "A =\n",
      " [array([[6, 8, 4, 1],\n",
      "       [7, 8, 4, 7],\n",
      "       [0, 5, 3, 1]])\n",
      " array([[6, 0, 5, 0],\n",
      "       [7, 4, 2, 6]])\n",
      " array([[1, 8, 8, 5],\n",
      "       [0, 3, 0, 0],\n",
      "       [8, 0, 3, 6],\n",
      "       [1, 8, 2, 3]])]\n",
      "B =\n",
      " [[[-1 -1 -1 -1]\n",
      "  [ 6  8  4  1]\n",
      "  [ 7  8  4  7]\n",
      "  [ 0  5  3  1]]\n",
      "\n",
      " [[-1 -1 -1 -1]\n",
      "  [-1 -1 -1 -1]\n",
      "  [ 6  0  5  0]\n",
      "  [ 7  4  2  6]]\n",
      "\n",
      " [[ 1  8  8  5]\n",
      "  [ 0  3  0  0]\n",
      "  [ 8  0  3  6]\n",
      "  [ 1  8  2  3]]]\n"
     ]
    }
   ],
   "source": [
    "pad_above1 = 4 - len(a1) # 4-3=1 len(a1) = 3x4\n",
    "pad_above2 = 4 - len(a2) # 4-2=2 len(a2) = 2x4\n",
    "pad_above3 = 4 - len(a3) # 4-4=0 len(a3) = 4x4\n",
    "pad_below = 0\n",
    "pad_left = 0\n",
    "par_right = 0\n",
    "\n",
    "n_add = [((pad_above1, pad_below), (pad_left, par_right)), # one tuple for each dimension\n",
    "         ((pad_above2, pad_below), (pad_left, par_right)), \n",
    "         ((pad_above3, pad_below), (pad_left, par_right))]\n",
    "print(n_add)\n",
    "B = [np.pad(A[i], pad_width = n_add[i], mode = 'constant', constant_values = -1) for i in range(3)] # list comprehension returns list\n",
    "B = np.array(B) # convert A3 into array again\n",
    "\n",
    "print(\"A =\\n\", A)\n",
    "print(\"B =\\n\", B)"
   ]
  },
  {
   "cell_type": "markdown",
   "metadata": {},
   "source": [
    "Stack the arrays in 'A' vertically. (**1 mark**)"
   ]
  },
  {
   "cell_type": "code",
   "execution_count": 9,
   "metadata": {},
   "outputs": [
    {
     "name": "stdout",
     "output_type": "stream",
     "text": [
      "[[6 8 4 1]\n",
      " [7 8 4 7]\n",
      " [0 5 3 1]\n",
      " [6 0 5 0]\n",
      " [7 4 2 6]\n",
      " [1 8 8 5]\n",
      " [0 3 0 0]\n",
      " [8 0 3 6]\n",
      " [1 8 2 3]]\n"
     ]
    }
   ],
   "source": [
    "A1 = np.vstack(A) \n",
    "print(A1)"
   ]
  },
  {
   "cell_type": "markdown",
   "metadata": {},
   "source": [
    "Stack the arrays in 'B' horizontally using only 1 line of code containing a for loop. (**2 marks**)"
   ]
  },
  {
   "cell_type": "code",
   "execution_count": 10,
   "metadata": {},
   "outputs": [
    {
     "name": "stdout",
     "output_type": "stream",
     "text": [
      "[array([-1, -1, -1, -1,  6,  8,  4,  1,  7,  8,  4,  7,  0,  5,  3,  1]), array([-1, -1, -1, -1, -1, -1, -1, -1,  6,  0,  5,  0,  7,  4,  2,  6]), array([1, 8, 8, 5, 0, 3, 0, 0, 8, 0, 3, 6, 1, 8, 2, 3])]\n"
     ]
    }
   ],
   "source": [
    "print([np.hstack(B[x])for x in range(3)])"
   ]
  },
  {
   "cell_type": "code",
   "execution_count": null,
   "metadata": {},
   "outputs": [],
   "source": []
  }
 ],
 "metadata": {
  "kernelspec": {
   "display_name": "Python 3",
   "language": "python",
   "name": "python3"
  },
  "language_info": {
   "codemirror_mode": {
    "name": "ipython",
    "version": 3
   },
   "file_extension": ".py",
   "mimetype": "text/x-python",
   "name": "python",
   "nbconvert_exporter": "python",
   "pygments_lexer": "ipython3",
   "version": "3.7.3"
  }
 },
 "nbformat": 4,
 "nbformat_minor": 2
}
