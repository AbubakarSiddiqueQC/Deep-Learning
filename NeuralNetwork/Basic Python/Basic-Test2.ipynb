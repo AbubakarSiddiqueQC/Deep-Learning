{
 "cells": [
  {
   "cell_type": "markdown",
   "metadata": {},
   "source": [
    "## Recitation1-Test2 (35 marks)"
   ]
  },
  {
   "cell_type": "markdown",
   "metadata": {},
   "source": [
    "Create a matrix **A** of size (3,5) with 0 mean and 5 standard deviation. (**1 mark**)"
   ]
  },
  {
   "cell_type": "code",
   "execution_count": 2,
   "metadata": {},
   "outputs": [
    {
     "name": "stdout",
     "output_type": "stream",
     "text": [
      "A =\n",
      " [[  8.78835111  -7.89118135   3.96678511  -3.22722184  -0.93127369]\n",
      " [ -2.49498898   4.80488012   2.07047604   2.74894606 -15.59482637]\n",
      " [  8.6249263    6.76869453  -6.94491973   0.15243948  -9.19475022]]\n"
     ]
    }
   ],
   "source": [
    "import numpy as np\n",
    "mu = 0\n",
    "sigma = 5\n",
    "A = np.random.normal(mu, sigma, size=(3,5)) # generate random numbers with mean 0.5 and sigma 1\n",
    "print(\"A =\\n\", A)\n"
   ]
  },
  {
   "cell_type": "markdown",
   "metadata": {},
   "source": [
    "Set all the elements in first row of **A** to 7. (**1 mark**)\n"
   ]
  },
  {
   "cell_type": "code",
   "execution_count": 3,
   "metadata": {},
   "outputs": [
    {
     "name": "stdout",
     "output_type": "stream",
     "text": [
      "A =\n",
      " [[  7.           7.           7.           7.           7.        ]\n",
      " [ -2.49498898   4.80488012   2.07047604   2.74894606 -15.59482637]\n",
      " [  8.6249263    6.76869453  -6.94491973   0.15243948  -9.19475022]]\n"
     ]
    }
   ],
   "source": [
    "A[0] = 7\n",
    "print(\"A =\\n\", A)"
   ]
  },
  {
   "cell_type": "markdown",
   "metadata": {},
   "source": [
    "Set all the elements in second row of **A** to -2. Set the element in third row and second column of **A** to 9. (**2 marks**) "
   ]
  },
  {
   "cell_type": "code",
   "execution_count": 4,
   "metadata": {},
   "outputs": [
    {
     "name": "stdout",
     "output_type": "stream",
     "text": [
      "A =\n",
      " [[ 7.          7.          7.          7.          7.        ]\n",
      " [-2.         -2.         -2.         -2.         -2.        ]\n",
      " [ 8.6249263   9.         -6.94491973  0.15243948 -9.19475022]]\n"
     ]
    }
   ],
   "source": [
    "A[1] = -2\n",
    "A.itemset((2, 1), 9)\n",
    "print(\"A =\\n\", A)"
   ]
  },
  {
   "cell_type": "markdown",
   "metadata": {},
   "source": [
    "Create a vector **a** of size 30 with values ranging from 60 to 89. (**2 marks**) "
   ]
  },
  {
   "cell_type": "code",
   "execution_count": 5,
   "metadata": {},
   "outputs": [
    {
     "name": "stdout",
     "output_type": "stream",
     "text": [
      "[71 78 83 82 67 70 68 63 70 77 76 71 84 84 81 69 79 87 77 85 68 64 64 79\n",
      " 64 79 62 79 69 84 61 75 66 82 84 88 72 74 66 80 73 68 86 82 86 64 65 67\n",
      " 68 74 83 88 81 63 72 85 81 65 76 65 78 62 72 69 71 77 61 84 60 85 82 83\n",
      " 71 83 70 79 60 68 64 80 87 72 82 75 83 80 61 64 66 71 72 79 71 77 62 85\n",
      " 82 83 77 83]\n"
     ]
    }
   ],
   "source": [
    "int_rand_arr = np.random.randint(low=60, high=89, size=100) # generate integer random numbers between 1 and 100\n",
    "print(int_rand_arr)"
   ]
  },
  {
   "cell_type": "markdown",
   "metadata": {},
   "source": [
    "Create a (5,5) matrix **M** with values ranging from 0 to 24. (**1 mark**) "
   ]
  },
  {
   "cell_type": "code",
   "execution_count": 8,
   "metadata": {},
   "outputs": [
    {
     "name": "stdout",
     "output_type": "stream",
     "text": [
      "M =\n",
      " [[ 4  8 21 22 20]\n",
      " [ 5 12  6  0  1]\n",
      " [ 2 23 15 11 22]\n",
      " [20  6 22 11 20]\n",
      " [16 12 12 18  8]]\n"
     ]
    }
   ],
   "source": [
    "M = np.random.randint(24, size=(5,5))\n",
    "print(\"M =\\n\", M)"
   ]
  },
  {
   "cell_type": "markdown",
   "metadata": {},
   "source": [
    "Make a (3,3) matrix **N** with 5 on the border and 0 inside. (**1 mark**) "
   ]
  },
  {
   "cell_type": "code",
   "execution_count": 39,
   "metadata": {},
   "outputs": [
    {
     "name": "stdout",
     "output_type": "stream",
     "text": [
      "N =\n",
      " [[5 5 5]\n",
      " [5 0 5]\n",
      " [5 5 5]]\n"
     ]
    }
   ],
   "source": [
    "N = np.full((3,3), 5)\n",
    "N.itemset((1, 1), 0)\n",
    "print(\"N =\\n\", N)"
   ]
  },
  {
   "cell_type": "markdown",
   "metadata": {},
   "source": [
    "Create a matrix **P** of size (3,4) with random integer values. (**1 mark**) "
   ]
  },
  {
   "cell_type": "code",
   "execution_count": 9,
   "metadata": {},
   "outputs": [
    {
     "name": "stdout",
     "output_type": "stream",
     "text": [
      "[[65 31 39 91]\n",
      " [55  6 99 24]\n",
      " [29 42 23 36]]\n"
     ]
    }
   ],
   "source": [
    "P = np.random.randint(low=1, high=100, size=(3,4))  # Create an array filled with random values\n",
    "print(P)                   "
   ]
  },
  {
   "cell_type": "markdown",
   "metadata": {},
   "source": [
    "Subtract the mean of each row of matrix **A**. (**1 mark**) "
   ]
  },
  {
   "cell_type": "code",
   "execution_count": 30,
   "metadata": {},
   "outputs": [
    {
     "name": "stdout",
     "output_type": "stream",
     "text": [
      "[ 7.         -2.          0.32753917]\n"
     ]
    }
   ],
   "source": [
    "print(np.mean(A, axis=1))#did not understand the question"
   ]
  },
  {
   "cell_type": "markdown",
   "metadata": {},
   "source": [
    "**listA** =  [1,2,3,4,5,6,7,8,9,10]  \n",
    "\n",
    "If an element of **listA** is smaller than 5, replace it with 0. And if an element of x is bigger than 5, replace it with 1. (**3 marks**) "
   ]
  },
  {
   "cell_type": "code",
   "execution_count": 10,
   "metadata": {},
   "outputs": [
    {
     "name": "stdout",
     "output_type": "stream",
     "text": [
      "[0, 0, 0, 0, 1, 1, 1, 1, 1, 1]\n"
     ]
    }
   ],
   "source": [
    "listA = [1,2,3,4,5,6,7,8,9,10]\n",
    "listB = []\n",
    "for x in listA:\n",
    "    if(x < 5):\n",
    "        listB.append(0)\n",
    "    else:\n",
    "        listB.append(1)\n",
    "print(listB)"
   ]
  },
  {
   "cell_type": "markdown",
   "metadata": {},
   "source": [
    "Compute the square of **listA** elements in one line. (**2 marks**) "
   ]
  },
  {
   "cell_type": "code",
   "execution_count": 11,
   "metadata": {},
   "outputs": [
    {
     "name": "stdout",
     "output_type": "stream",
     "text": [
      "[1, 4, 9, 16, 25, 36, 49, 64, 81, 100]\n"
     ]
    }
   ],
   "source": [
    "squares = [x ** 2 for x in listA]\n",
    "print(squares)"
   ]
  },
  {
   "cell_type": "markdown",
   "metadata": {},
   "source": [
    "Concatenate b1 and b2. (**2 marks**) "
   ]
  },
  {
   "cell_type": "code",
   "execution_count": 20,
   "metadata": {},
   "outputs": [
    {
     "name": "stdout",
     "output_type": "stream",
     "text": [
      "Hello Students in the first recitation \n"
     ]
    }
   ],
   "source": [
    "b1 = np.array(['Hello', 'in','first'])\n",
    "b2 = np.array(['Students','the','recitation'])\n",
    "combine_b = \"\"\n",
    "for i in range(3):\n",
    "    combine_b += b1[i]\n",
    "    combine_b += \" \"\n",
    "    combine_b += b2[i]\n",
    "    combine_b += \" \"\n",
    "print(combine_b)    \n",
    "    "
   ]
  },
  {
   "cell_type": "markdown",
   "metadata": {},
   "source": [
    "Split the element of combine_b (above list) with spaces. (**2 marks**) "
   ]
  },
  {
   "cell_type": "code",
   "execution_count": 21,
   "metadata": {},
   "outputs": [
    {
     "name": "stdout",
     "output_type": "stream",
     "text": [
      "['Hello', 'Students', 'in', 'the', 'first', 'recitation', '']\n"
     ]
    }
   ],
   "source": [
    "print(combine_b.split(\" \"))"
   ]
  },
  {
   "cell_type": "markdown",
   "metadata": {},
   "source": [
    "Create a 3-D array **L** with five on the diagonal and zeros elsewhere. (**1 mark**) "
   ]
  },
  {
   "cell_type": "code",
   "execution_count": 23,
   "metadata": {},
   "outputs": [
    {
     "name": "stdout",
     "output_type": "stream",
     "text": [
      "[[[5. 0. 0.]\n",
      "  [0. 0. 0.]\n",
      "  [0. 0. 0.]]\n",
      "\n",
      " [[0. 0. 0.]\n",
      "  [0. 5. 0.]\n",
      "  [0. 0. 0.]]\n",
      "\n",
      " [[0. 0. 0.]\n",
      "  [0. 0. 0.]\n",
      "  [0. 0. 5.]]]\n"
     ]
    }
   ],
   "source": [
    "L = np.zeros((3,3,3))\n",
    "np.fill_diagonal(L, 5)\n",
    "print(L)"
   ]
  },
  {
   "cell_type": "markdown",
   "metadata": {},
   "source": [
    "Make a function that can print a dictionary where the keys are numbers between 1 and 5 and the values are square of keys. (**2 marks**) "
   ]
  },
  {
   "cell_type": "code",
   "execution_count": 26,
   "metadata": {},
   "outputs": [
    {
     "name": "stdout",
     "output_type": "stream",
     "text": [
      "key and value: 1 1\n",
      "key and value: 2 4\n",
      "key and value: 3 9\n",
      "key and value: 4 16\n",
      "key and value: 5 25\n"
     ]
    }
   ],
   "source": [
    "my_dict = {1:1, 2:4, 3:9,4:16,5:25}\n",
    "def print_dict(dict):\n",
    "    for x, y in dict.items(): print(\"key and value:\",x,y) \n",
    "print_dict(my_dict)"
   ]
  },
  {
   "cell_type": "markdown",
   "metadata": {},
   "source": [
    "Create a dictionary of student **Ali** where the keys are courses and values are total and obtaining marks in each course. Save this dictionary in a text file and numpy file. (**4 marks**) "
   ]
  },
  {
   "cell_type": "code",
   "execution_count": 28,
   "metadata": {},
   "outputs": [
    {
     "name": "stdout",
     "output_type": "stream",
     "text": [
      "{'Deep Learning': (85, 100), 'MIA': (85, 100), 'AOAA': (85, 100), 'ACA': (85, 100)}\n",
      "{'Deep Learning': (85, 100), 'MIA': (85, 100), 'AOAA': (85, 100), 'ACA': (85, 100)}\n"
     ]
    }
   ],
   "source": [
    "Ali = {\"Deep Learning\":(85,100), \"MIA\": (85,100), \"AOAA\": (85,100), \"ACA\": (85,100)}\n",
    "print(Ali)\n",
    "import pickle\n",
    "pickle.dump(Ali, open(\"Ali1.txt\", \"wb\"))\n",
    "pickle.dump(Ali, open(\"Ali2.npy\", \"wb\"))\n",
    "loaded = pickle.load(open(\"Ali1.txt\", \"rb\"))\n",
    "loaded = pickle.load(open(\"Ali2.npy\", \"rb\"))\n",
    "print(loaded)"
   ]
  },
  {
   "cell_type": "markdown",
   "metadata": {},
   "source": [
    "Create a class 'calculator' with the following functions to compute: **(9 marks)**\n",
    "- the dot product between two vectors\n",
    "- the cross product between two vectors\n",
    "- the length (norm) of the vector\n",
    "- matrix-vector product of **M** and **v**\n",
    "- the mean squared error between **u**  and **v**\n",
    "- the unit norm of vector **u**"
   ]
  },
  {
   "cell_type": "code",
   "execution_count": 53,
   "metadata": {},
   "outputs": [],
   "source": [
    "M = np.array([[5,2,4],[2,9,8],[2,1,7]])\n",
    "u = np.array([1,5,2])\n",
    "v = np.array([4,2,3])\n",
    "class Calculator:\n",
    "    # Constructor\n",
    "    def __init__(self): # Create an instance variable\n",
    "        print(\"It is Constructor of my class\")\n",
    "    # Instance method    \n",
    "    def dot_product(self,u,v):\n",
    "        result = np.dot(u,v)\n",
    "        print(\"Dot product of the vectors:\",result)\n",
    "    # Instance method    \n",
    "    def cross_product(self,u,v):\n",
    "        result = np.cross(u,v)\n",
    "        print(\"Cross product of the vectors:\",result)\n",
    "    # Instance method    \n",
    "    def magnitude(self,u):\n",
    "        print(\"Magnitude of the vector:\",np.linalg.norm(u))\n",
    "    # Instance method    \n",
    "    def matrix_vector_product(self,M,v):\n",
    "        result = np.matmul(M,v.T)\n",
    "        print(\"matrix_vector_product of the vectors:\",result)\n",
    "    # Instance method    \n",
    "    def unit_norm(self,v):\n",
    "        length = np.linalg.norm(v)\n",
    "        print(\"unit norm of the vector:\",v / length)\n",
    "    # Instance method    \n",
    "    def mean_squared_error(self,A,B):\n",
    "        mse = (np.square(A - B)).mean()\n",
    "        print(\"mean squared error between the vectors:\",mse)\n",
    "        \n",
    "        \n",
    "    \n",
    "    \n"
   ]
  },
  {
   "cell_type": "code",
   "execution_count": 54,
   "metadata": {},
   "outputs": [
    {
     "name": "stdout",
     "output_type": "stream",
     "text": [
      "It is Constructor of my class\n",
      "Dot product of the vectors: 20\n",
      "Cross product of the vectors: [ 11   5 -18]\n",
      "Magnitude of the vector: 15.748015748023622\n",
      "matrix_vector_product of the vectors: [36 50 31]\n",
      "unit norm of the vector: [0.74278135 0.37139068 0.55708601]\n",
      "mean squared error between the vectors: 6.333333333333333\n"
     ]
    }
   ],
   "source": [
    "cal1 = Calculator() # Construct an instance of the person class\n",
    "cal1.dot_product(u,v)\n",
    "cal1.cross_product(u,v)\n",
    "cal1.magnitude(M)\n",
    "cal1.matrix_vector_product(M,v)\n",
    "cal1.unit_norm(v)\n",
    "cal1.mean_squared_error(u,v)"
   ]
  },
  {
   "cell_type": "code",
   "execution_count": null,
   "metadata": {},
   "outputs": [],
   "source": []
  }
 ],
 "metadata": {
  "kernelspec": {
   "display_name": "Python 3",
   "language": "python",
   "name": "python3"
  },
  "language_info": {
   "codemirror_mode": {
    "name": "ipython",
    "version": 3
   },
   "file_extension": ".py",
   "mimetype": "text/x-python",
   "name": "python",
   "nbconvert_exporter": "python",
   "pygments_lexer": "ipython3",
   "version": "3.7.3"
  }
 },
 "nbformat": 4,
 "nbformat_minor": 2
}
