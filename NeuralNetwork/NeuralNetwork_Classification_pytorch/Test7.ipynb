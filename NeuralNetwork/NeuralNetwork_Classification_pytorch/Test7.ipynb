{
  "nbformat": 4,
  "nbformat_minor": 0,
  "metadata": {
    "colab": {
      "name": "Test7.ipynb",
      "provenance": [],
      "collapsed_sections": []
    },
    "kernelspec": {
      "display_name": "Python 3",
      "language": "python",
      "name": "python3"
    },
    "language_info": {
      "codemirror_mode": {
        "name": "ipython",
        "version": 3
      },
      "file_extension": ".py",
      "mimetype": "text/x-python",
      "name": "python",
      "nbconvert_exporter": "python",
      "pygments_lexer": "ipython3",
      "version": "3.6.9"
    }
  },
  "cells": [
    {
      "cell_type": "markdown",
      "metadata": {
        "colab_type": "text",
        "id": "XoNilKhg-58H"
      },
      "source": [
        "# <center>CS568:Deep Learning</center>  <center>Spring 2020</center> "
      ]
    },
    {
      "cell_type": "markdown",
      "metadata": {
        "id": "bE9tI-AztbOR",
        "colab_type": "text"
      },
      "source": [
        "# Test 7\n",
        "\n",
        "**Due **: Thursday, April 16, 2020 before **5.00 PM**\n",
        "\n",
        "Implement a Neural Network for multiclass classification.\n",
        "+ Code up a generic implementation.\n",
        "+ Train it on the MNIST digits training data.\n",
        "+ Report classification accuracy and confusion matrix on the testing data. **(20 marks)**\n",
        "\n",
        "\n"
      ]
    },
    {
      "cell_type": "code",
      "metadata": {
        "colab_type": "code",
        "id": "8d1klHg_-7y2",
        "outputId": "c9c67953-f712-48c9-bb8e-367ab759a0fc",
        "colab": {
          "base_uri": "https://localhost:8080/",
          "height": 34
        }
      },
      "source": [
        "from google.colab import drive\n",
        "drive.mount('/content/drive')"
      ],
      "execution_count": 2,
      "outputs": [
        {
          "output_type": "stream",
          "text": [
            "Drive already mounted at /content/drive; to attempt to forcibly remount, call drive.mount(\"/content/drive\", force_remount=True).\n"
          ],
          "name": "stdout"
        }
      ]
    },
    {
      "cell_type": "markdown",
      "metadata": {
        "colab_type": "text",
        "id": "oN0whz0Y_jlX"
      },
      "source": [
        "## Download the MNIST dataset"
      ]
    },
    {
      "cell_type": "code",
      "metadata": {
        "colab_type": "code",
        "id": "tRFJ9CyF_jN_",
        "outputId": "9494322e-a131-4130-b7c2-56e1e21123cd",
        "colab": {
          "base_uri": "https://localhost:8080/",
          "height": 51
        }
      },
      "source": [
        "from torch.utils import data\n",
        "from torchvision import transforms\n",
        "import torchvision\n",
        "import torch\n",
        "batch_size = 100\n",
        "# MNIST dataset \n",
        "train_dataset = torchvision.datasets.MNIST(root='/data', \n",
        "                                           train=True, \n",
        "                                           transform=transforms.ToTensor(),  \n",
        "                                           download=True)\n",
        "\n",
        "test_dataset = torchvision.datasets.MNIST(root='/data', \n",
        "                                          train=False, \n",
        "                                          transform=transforms.ToTensor())\n",
        "\n",
        "# Data loader\n",
        "train_loader = torch.utils.data.DataLoader(dataset=train_dataset, \n",
        "                                           batch_size=batch_size, \n",
        "                                           shuffle=True)\n",
        "\n",
        "test_loader = torch.utils.data.DataLoader(dataset=test_dataset, \n",
        "                                          batch_size=batch_size, \n",
        "                                          shuffle=False)\n",
        "\n",
        "print(\"train_dataset\", train_loader)\n",
        "print(\"test_dataset\", test_loader)"
      ],
      "execution_count": 5,
      "outputs": [
        {
          "output_type": "stream",
          "text": [
            "train_dataset <torch.utils.data.dataloader.DataLoader object at 0x7f8acab59a20>\n",
            "test_dataset <torch.utils.data.dataloader.DataLoader object at 0x7f8acab3ee80>\n"
          ],
          "name": "stdout"
        }
      ]
    },
    {
      "cell_type": "markdown",
      "metadata": {
        "id": "-etGkBekuPjT",
        "colab_type": "text"
      },
      "source": [
        "Neural Network"
      ]
    },
    {
      "cell_type": "code",
      "metadata": {
        "id": "Fbayc02Mudeg",
        "colab_type": "code",
        "colab": {}
      },
      "source": [
        "import numpy as np\n",
        "import matplotlib.pyplot as plt\n",
        "from sklearn.utils import shuffle\n",
        "from sklearn.metrics import confusion_matrix\n",
        "import torch.nn as nn\n",
        "from torchsummary import summary\n",
        "from time import time\n",
        "# Device configuration\n",
        "device = torch.device('cuda' if torch.cuda.is_available() else 'cpu')\n",
        "\n",
        "def plot_loss(loss,val_loss, len_layer, learning_rate):        \n",
        "    plt.figure()\n",
        "    fig = plt.gcf()\n",
        "    plt.plot(loss, linewidth=3, label=\"train\")\n",
        "    plt.plot(val_loss, linewidth=3, label=\"val\")\n",
        "    plt.ylabel('loss')\n",
        "    plt.xlabel('epochs')\n",
        "    plt.title('learning rate =%s, hidden layers=%s' % (learning_rate, len_layer-1))\n",
        "    plt.grid()\n",
        "    plt.legend()\n",
        "    plt.show()\n",
        "    fig.savefig('plot_loss.png')\n",
        "        \n",
        "    \n",
        "def plot_gradients(net, len_layer):\n",
        "    avg_l_g = []\n",
        "    for idx, param in enumerate(net.parameters()):\n",
        "        if idx % 2 == 0:\n",
        "             weights_grad = param.grad \n",
        "             dim = weights_grad.shape[0]\n",
        "             avg_g = []\n",
        "             for d in range(dim):\n",
        "                 abs_g = np.abs(weights_grad[d].numpy())           \n",
        "                 avg_g.append(np.mean(abs_g))             \n",
        "             temp = np.mean(avg_g)\n",
        "             avg_l_g.append(temp)   \n",
        "    layers = ['layer %s'%l for l in range(len_layer+1)]\n",
        "    weights_grad_mag = avg_l_g\n",
        "    fig = plt.gcf()\n",
        "    plt.xticks(range(len(layers)), layers)\n",
        "    plt.xlabel('layers')\n",
        "    plt.ylabel('average gradients magnitude')\n",
        "    plt.title('')\n",
        "    plt.bar(range(len(weights_grad_mag)),weights_grad_mag, color='red', width=0.2) \n",
        "    plt.show() \n",
        "    fig.savefig('plot_gradients.png')\n",
        "    \n",
        "\n",
        "class NeuralNet(nn.Module):\n",
        "    def __init__(self, size_list, activations):\n",
        "        super(NeuralNet, self).__init__()\n",
        "        layers = []\n",
        "        for i in range(len(size_list) - 2):\n",
        "            layers.append(nn.Linear(size_list[i],size_list[i+1]))\n",
        "            if activations[i+1] == 'sigmoid':\n",
        "                act = nn.Sigmoid()\n",
        "            elif activations[i+1] =='tanh':\n",
        "                act = nn.Tanh()\n",
        "            elif activations[i+1] == 'relu':\n",
        "                act = nn.ReLU()\n",
        "            layers.append(act)\n",
        "        layers.append(nn.Linear(size_list[-2], size_list[-1]))\n",
        "        #because this is classification\n",
        "        layers.append(nn.LogSoftmax(dim=1))\n",
        "        self.net = nn.Sequential(*layers)\n",
        "\n",
        "    def forward(self, x):\n",
        "        x = self.net(x)\n",
        "        return x\n",
        "\n",
        "def train(train_loader, learning_rate, num_epochs, layer_dim, activations):\n",
        "    train_loss = []\n",
        "    val_loss = []  \n",
        "    time0 = time()\n",
        "\n",
        "    len_layer = len(layer_dim) - 1\n",
        "    \n",
        "    net = NeuralNet(layer_dim, activations)    \n",
        "    calculate_loss = nn.NLLLoss()\n",
        "    optimizer = torch.optim.SGD(net.parameters(), lr=learning_rate)\n",
        "    print(net)\n",
        "\n",
        "    \n",
        " \n",
        "    \n",
        "    total_parameters = sum(p.numel() for p in net.parameters())\n",
        "    print(\"total number of parameters:\", total_parameters)\n",
        "    #summary(net, (784//2,128))\n",
        "    \n",
        "    \n",
        "    for i in range(0, num_epochs):\n",
        "        running_loss = 0\n",
        "        for images, labels in train_loader:\n",
        "            # Flatten MNIST images into a 784 long vector\n",
        "            images = images.view(images.shape[0], -1)\n",
        "\n",
        "            # Forward pass\n",
        "            outputs = net(images)\n",
        "            loss = calculate_loss(outputs,labels)\n",
        "            \n",
        "            # Backprop and update parameters\n",
        "            optimizer.zero_grad()\n",
        "            loss.backward()\n",
        "            optimizer.step()                \n",
        "            running_loss += loss.item()\n",
        "        train_loss.append(loss)       \n",
        "        print(\"Epoch {} - Training loss: {}\".format(i, running_loss/len(train_loader)))\n",
        "    \n",
        "    print(\"\\nTraining Time (in minutes) =\",(time()-time0)/60)    \n",
        "    plot_loss(train_loss,val_loss, len_layer, learning_rate)      \n",
        "    plot_gradients(net, len_layer)\n",
        "    \n",
        "    checkpoint = {'model': NeuralNet(layer_dim, activations),\n",
        "                  'state_dict': net.state_dict(),\n",
        "                  'optimizer' : optimizer.state_dict()}\n",
        "    torch.save(checkpoint, 'checkpoint.pth')\n",
        "\n",
        "def load_checkpoint(filepath):\n",
        "    checkpoint = torch.load(filepath)\n",
        "    model = checkpoint['model']\n",
        "    model.load_state_dict(checkpoint['state_dict'])\n",
        "    for parameter in model.parameters():\n",
        "        parameter.requires_grad = False\n",
        "    model.eval()\n",
        "    return model\n",
        "    \n",
        "def test(test_loader):\n",
        "    pred_labels = []\n",
        "    true_labels = [] \n",
        "    net = load_checkpoint('checkpoint.pth')\n",
        "    correct_count, all_count = 0, 0\n",
        "    for images,labels in test_loader:\n",
        "        for i in range(len(labels)):\n",
        "            img = images[i].view(1, 784)\n",
        "            with torch.no_grad():\n",
        "                logps = net(img)\n",
        "            ps = torch.exp(logps)\n",
        "            probab = list(ps.numpy()[0])\n",
        "            pred_label = probab.index(max(probab))\n",
        "            true_label = labels.numpy()[i]\n",
        "            pred_labels.append(pred_label)\n",
        "            true_labels.append(true_label)\n",
        "            if(true_label == pred_label):\n",
        "                correct_count += 1\n",
        "            all_count += 1\n",
        "\n",
        "    print(\"Number Of Images Tested =\", all_count)\n",
        "    print(\"\\nModel Accuracy =\", 100*(correct_count/all_count))\n",
        "    confusion_mat = confusion_matrix(true_labels, pred_labels)\n",
        "    print(\"Confusion Matrx =\",confusion_mat )\n",
        "    print(\"Accuracy of each class\")\n",
        "    print(100*confusion_mat.diagonal()/confusion_mat.sum(1))    "
      ],
      "execution_count": 0,
      "outputs": []
    },
    {
      "cell_type": "markdown",
      "metadata": {
        "id": "ERBq2_xSunpW",
        "colab_type": "text"
      },
      "source": [
        "Driver"
      ]
    },
    {
      "cell_type": "code",
      "metadata": {
        "id": "uBkHgNZRupVD",
        "colab_type": "code",
        "colab": {
          "base_uri": "https://localhost:8080/",
          "height": 1000
        },
        "outputId": "53a1dadf-18ec-4763-d0ac-1e301aa7fd30"
      },
      "source": [
        "\n",
        "# create l-dim network by just adding num of neurons in layer_dim\n",
        "# first and last elements represent input and output layers dim\n",
        "layer_dim = [784, 50,50, 10]\n",
        "\n",
        "# add activation functions name here. \n",
        "# input layer activation function is None\n",
        "activations = [None, 'relu','relu', 'identity']\n",
        "assert len(layer_dim) ==  len(activations), \"layer dim or activation is missing..\"\n",
        "\n",
        "# hyper parameters of neural network\n",
        "learning_rate = 1e-1\n",
        "num_epochs = 15\n",
        "#mini_batch_size = 10\n",
        "\n",
        "# train neural network \n",
        "train(train_loader, learning_rate, num_epochs,layer_dim, activations)\n",
        "\n",
        "\n",
        "# test neural network \n",
        "test(test_loader)\n"
      ],
      "execution_count": 7,
      "outputs": [
        {
          "output_type": "stream",
          "text": [
            "NeuralNet(\n",
            "  (net): Sequential(\n",
            "    (0): Linear(in_features=784, out_features=50, bias=True)\n",
            "    (1): ReLU()\n",
            "    (2): Linear(in_features=50, out_features=50, bias=True)\n",
            "    (3): ReLU()\n",
            "    (4): Linear(in_features=50, out_features=10, bias=True)\n",
            "    (5): LogSoftmax()\n",
            "  )\n",
            ")\n",
            "total number of parameters: 42310\n",
            "Epoch 0 - Training loss: 0.608014450892806\n",
            "Epoch 1 - Training loss: 0.24948035263766846\n",
            "Epoch 2 - Training loss: 0.191724190308402\n",
            "Epoch 3 - Training loss: 0.15456716002896428\n",
            "Epoch 4 - Training loss: 0.12829783408281703\n",
            "Epoch 5 - Training loss: 0.11153952650725842\n",
            "Epoch 6 - Training loss: 0.09819567770231515\n",
            "Epoch 7 - Training loss: 0.08702406350523234\n",
            "Epoch 8 - Training loss: 0.07941572956042364\n",
            "Epoch 9 - Training loss: 0.07163981922126064\n",
            "Epoch 10 - Training loss: 0.06465317787447324\n",
            "Epoch 11 - Training loss: 0.060729783490144955\n",
            "Epoch 12 - Training loss: 0.05590223290647069\n",
            "Epoch 13 - Training loss: 0.05147137723009412\n",
            "Epoch 14 - Training loss: 0.047390851999322574\n",
            "\n",
            "Training Time (in minutes) = 1.3363577644030253\n"
          ],
          "name": "stdout"
        },
        {
          "output_type": "display_data",
          "data": {
            "image/png": "[encoded data removed]",
            "text/plain": [
              "<Figure size 432x288 with 1 Axes>"
            ]
          },
          "metadata": {
            "tags": [],
            "needs_background": "light"
          }
        },
        {
          "output_type": "display_data",
          "data": {
            "image/png": "[encoded data removed]",
            "text/plain": [
              "<Figure size 432x288 with 1 Axes>"
            ]
          },
          "metadata": {
            "tags": [],
            "needs_background": "light"
          }
        },
        {
          "output_type": "stream",
          "text": [
            "/usr/local/lib/python3.6/dist-packages/torch/serialization.py:360: UserWarning: Couldn't retrieve source code for container of type NeuralNet. It won't be checked for correctness upon loading.\n",
            "  \"type \" + obj.__name__ + \". It won't be checked \"\n"
          ],
          "name": "stderr"
        },
        {
          "output_type": "stream",
          "text": [
            "Number Of Images Tested = 10000\n",
            "\n",
            "Model Accuracy = 97.42\n",
            "Confusion Matrx = [[ 968    0    0    2    1    1    1    1    4    2]\n",
            " [   0 1119    2    2    1    1    1    1    8    0]\n",
            " [   7    2  997    7    6    0    1    4    8    0]\n",
            " [   0    0    2  995    0    3    0    5    2    3]\n",
            " [   0    0    3    0  972    0    3    1    1    2]\n",
            " [   2    1    1   13    5  852    2    1   12    3]\n",
            " [   3    3    2    1   10    2  931    0    6    0]\n",
            " [   2    5    8    3    2    0    0  996    3    9]\n",
            " [   2    0    5    8    5    2    3    2  945    2]\n",
            " [   2    2    0    7   16    3    1    9    2  967]]\n",
            "Accuracy of each class\n",
            "[98.7755102  98.59030837 96.60852713 98.51485149 98.98167006 95.51569507\n",
            " 97.18162839 96.88715953 97.02258727 95.83746283]\n"
          ],
          "name": "stdout"
        }
      ]
    }
  ]
}